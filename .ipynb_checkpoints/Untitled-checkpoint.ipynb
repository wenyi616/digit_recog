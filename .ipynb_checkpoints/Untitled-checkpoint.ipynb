{
 "cells": [
  {
   "cell_type": "code",
   "execution_count": null,
   "metadata": {},
   "outputs": [],
   "source": [
    "import numpy\n",
    "import sys\n",
    "import math\n",
    "from matplotlib import pylab as plt\n",
    "\n",
    "matrix = numpy.loadtxt(open(\"./digit-recognizer/train.csv\", \"rb\"), delimiter=\",\", skiprows=1, usecols=range(1,785))\n",
    "label = numpy.loadtxt(open(\"./digit-recognizer/train.csv\", \"rb\"), delimiter=\",\", skiprows=1, usecols=range(0,1))\n",
    "\n",
    "# Plot a single digit.\n",
    "def displayDigit(row):\n",
    "    matshow(matrix[row].reshape(28,28), cmap='gray')\n",
    "    return"
   ]
  },
  {
   "cell_type": "code",
   "execution_count": null,
   "metadata": {},
   "outputs": [],
   "source": []
  }
 ],
 "metadata": {
  "kernelspec": {
   "display_name": "Python 2",
   "language": "python",
   "name": "python2"
  },
  "language_info": {
   "codemirror_mode": {
    "name": "ipython",
    "version": 2
   },
   "file_extension": ".py",
   "mimetype": "text/x-python",
   "name": "python",
   "nbconvert_exporter": "python",
   "pygments_lexer": "ipython2",
   "version": "2.7.16"
  }
 },
 "nbformat": 4,
 "nbformat_minor": 2
}
